{
 "cells": [
  {
   "cell_type": "code",
   "execution_count": null,
   "metadata": {
    "executionInfo": {
     "elapsed": 611,
     "status": "ok",
     "timestamp": 1733595497864,
     "user": {
      "displayName": "Tong Peng",
      "userId": "14680520704856526492"
     },
     "user_tz": 300
    },
    "id": "-IHoHd-t5sLP",
    "trusted": true
   },
   "outputs": [],
   "source": [
    "import sys, os\n",
    "\n",
    "AG4MDIR='/kaggle/working/ag4masses'\n",
    "AGLIB='/kaggle/working/aglib'\n",
    "AGDIR=f\"{AG4MDIR}/alphageometry\"\n",
    "MELIAD_PATH=f\"{AGLIB}/meliad\"\n",
    "DATA=f\"{AGLIB}/ag_ckpt_vocab\"\n",
    "TESTDIR=f\"/kaggle/working/ag4mtest\""
   ]
  },
  {
   "cell_type": "markdown",
   "metadata": {
    "id": "ASgGFu0NYHUH"
   },
   "source": [
    "# Download Files"
   ]
  },
  {
   "cell_type": "code",
   "execution_count": null,
   "metadata": {
    "trusted": true
   },
   "outputs": [],
   "source": [
    "# Run this cell to refresh code and get the latest versions\n",
    "# AG4MDIR and MELIAD_PATH are in /kaggle/working and will be saved as outputs of the Notebook\n",
    "# !rm -fr {AG4MDIR} {MELIAD_PATH}"
   ]
  },
  {
   "cell_type": "code",
   "execution_count": null,
   "metadata": {
    "executionInfo": {
     "elapsed": 5,
     "status": "ok",
     "timestamp": 1733594216384,
     "user": {
      "displayName": "Tong Peng",
      "userId": "14680520704856526492"
     },
     "user_tz": 300
    },
    "id": "GgR_vO8XX9Vr",
    "trusted": true
   },
   "outputs": [],
   "source": [
    "if not os.path.exists(MELIAD_PATH):\n",
    "    !git clone https://github.com/google-research/meliad.git {MELIAD_PATH}\n",
    "\n",
    "if not os.path.exists(AG4MDIR):\n",
    "    !git clone https://github.com/ZYP123678/alphageometry.git {AG4MDIR}\n",
    "\n",
    "# Temporarily modified files, upload into dataset tmpfiles\n",
    "# !cp /kaggle/input/tmpfiles/numericals.py {AGDIR}\n",
    "# !cp /kaggle/input/tmpfiles/alphageometry.py {AGDIR}\n",
    "\n",
    "if not os.path.exists(TESTDIR):\n",
    "    !mkdir {TESTDIR}"
   ]
  },
  {
   "cell_type": "code",
   "execution_count": null,
   "metadata": {
    "executionInfo": {
     "elapsed": 40247,
     "status": "ok",
     "timestamp": 1733594312243,
     "user": {
      "displayName": "Tong Peng",
      "userId": "14680520704856526492"
     },
     "user_tz": 300
    },
    "id": "gP4zAZh2MHcv",
    "outputId": "4796397b-8952-411e-bd33-8fd813865735",
    "trusted": true
   },
   "outputs": [],
   "source": [
    "if not os.path.exists(DATA):\n",
    "  # download data: vocabulary, trained model\n",
    "  !mkdir {DATA}\n",
    "\n",
    "  ### Convoluted process. This does no work, seems due to Google Drive restrictions\n",
    "  # !gdown --folder https://bit.ly/alphageometry/\n",
    "  #\n",
    "  ### First got file links from Google Drive web UI, under Share menu. It will download HTML files with download button. Extract URL from the file.\n",
    "  ### For checkpoint_10999999, because the file is big, there is an additional step asking for confirmation, got the final URL from the 2nd HTML,\n",
    "  ### Link constructed using AI from HTML form.\n",
    "  # !gdown https://drive.google.com/file/d/1mRd6J0UkeWoFUjeVB7BQi5lVNLvPBe31/view?usp=drive_link -O {AGLIB}/ag_ckpt_vocab/geometry.757.vocab\n",
    "  # !gdown https://drive.google.com/file/d/1t-r3KfU8aDbS1UHpdyM3LH21rwSCIXTz/view?usp=drive_link -O {AGLIB}/ag_ckpt_vocab/geometry.757.model\n",
    "  # !gdown https://drive.google.com/file/d/1qXkmmgoJ8oTYJdFV1xw0xGPpQj6SyOYA/view?usp=drive_link -O {AGLIB}/ag_ckpt_vocab/checkpoint_10999999\n",
    "\n",
    "  !wget -O {DATA}/geometry.757.vocab \"https://drive.usercontent.google.com/uc?id=1mRd6J0UkeWoFUjeVB7BQi5lVNLvPBe31&export=download\"\n",
    "  !wget -O {DATA}/geometry.757.model \"https://drive.usercontent.google.com/uc?id=1t-r3KfU8aDbS1UHpdyM3LH21rwSCIXTz&export=download\"\n",
    "  !wget -O {DATA}/checkpoint_10999999 \"https://drive.usercontent.google.com/download?id=1qXkmmgoJ8oTYJdFV1xw0xGPpQj6SyOYA&export=download&confirm=t&uuid=ae22f4de-cb77-4145-af5f-8cfbb59e867e\"\n",
    "\n",
    "!ls -l {DATA}"
   ]
  },
  {
   "cell_type": "markdown",
   "metadata": {},
   "source": [
    "# Setup Env"
   ]
  },
  {
   "cell_type": "code",
   "execution_count": null,
   "metadata": {
    "executionInfo": {
     "elapsed": 14190,
     "status": "ok",
     "timestamp": 1733594230570,
     "user": {
      "displayName": "Tong Peng",
      "userId": "14680520704856526492"
     },
     "user_tz": 300
    },
    "id": "X8Aj3G0neT6K",
    "outputId": "9538ceba-8065-44d6-a32f-35127e5f2575",
    "trusted": true
   },
   "outputs": [],
   "source": [
    "# Python packages for AlphaGeometry\n",
    "!pip cache purge\n",
    "!pip install --upgrade pip\n",
    "!pip install --upgrade packaging setuptools setuptools_scm wheel \n",
    "!pip install --require-hashes --no-deps -r {AG4MDIR}/alphageometry/requirements.txt"
   ]
  },
  {
   "cell_type": "code",
   "execution_count": null,
   "metadata": {
    "executionInfo": {
     "elapsed": 15694,
     "status": "ok",
     "timestamp": 1733594246256,
     "user": {
      "displayName": "Tong Peng",
      "userId": "14680520704856526492"
     },
     "user_tz": 300
    },
    "id": "u9fuBSr2qEwN",
    "outputId": "97bbce78-8b49-4d3b-a831-d188a4a9e536",
    "trusted": true
   },
   "outputs": [],
   "source": [
    "# Python packages for Nvidia gpu.\n",
    "# The versions of Python packages used by AlphaGeometry seem to only work with Cuda 11, not 12\n",
    "!pip install -U \"jax==0.4.6\" \"jaxlib[cuda11_cudnn86]==0.4.6\" -f https://storage.googleapis.com/jax-releases/jax_cuda_releases.html\n",
    "!pip install nvidia-cuda-runtime-cu11\n",
    "!pip install nvidia-pyindex\n",
    "# !pip list"
   ]
  },
  {
   "cell_type": "code",
   "execution_count": null,
   "metadata": {
    "trusted": true
   },
   "outputs": [],
   "source": [
    "# Linux packages for Nvidia gpu.\n",
    "# The versions of Python packages used by AlphaGeometry seem to only work with Cuda 11, not 12\n",
    "!apt-get update\n",
    "!DEBIAN_FRONTEND=noninteractive apt install -y cuda-11-8\n",
    "# !apt list|grep cuda"
   ]
  },
  {
   "cell_type": "code",
   "execution_count": null,
   "metadata": {
    "id": "fChy49CNhf01",
    "trusted": true
   },
   "outputs": [],
   "source": [
    "# Information about Nvidia drivers\n",
    "!nvcc --version\n",
    "!nvidia-smi"
   ]
  },
  {
   "cell_type": "markdown",
   "metadata": {
    "id": "jUWvch7kYhxt"
   },
   "source": [
    "# Execution"
   ]
  },
  {
   "cell_type": "code",
   "execution_count": null,
   "metadata": {
    "trusted": true
   },
   "outputs": [],
   "source": [
    "#!! cannot have ' in the script, including in comments\n",
    "jobScript = '''\n",
    "# !/bin/bash\n",
    "set -e\n",
    "set -x\n",
    "\n",
    "# stdout, solution is written here\n",
    "OUTFILE=$TESTDIR/${PROB}.out\n",
    "# stderr, a lot of information, error message, log etc.\n",
    "ERRFILE=$TESTDIR/${PROB}.log\n",
    "\n",
    "# stdout and stderr are written to both ERRFILF and console\n",
    "exec >$ERRFILE 2>&1\n",
    "\n",
    "echo PROB=$PROB\n",
    "echo PROB_FILE=$PROBFILE\n",
    "echo MODEL=$MODEL\n",
    "\n",
    "# Directory where output files go\n",
    "echo TESTDIR=$TESTDIR\n",
    "# Directory containing AG4Masses source files\n",
    "echo AG4MDIR=$AG4MDIR\n",
    "# Directory containing external libraries including ag_ckpt_vocab and meliad\n",
    "echo AGLIB=$AGLIB\n",
    "\n",
    "AGDIR=$AG4MDIR/alphageometry\n",
    "export PYTHONPATH=$PYTHONPATH:$AGDIR:$AGLIB\n",
    "\n",
    "echo BATCH_SIZE=$BATCH_SIZE\n",
    "echo BEAM_SIZE=$BEAM_SIZE\n",
    "echo DEPTH=$DEPTH\n",
    "echo NWORKERS=$NWORKERS\n",
    "\n",
    "echo ERRFILE=$ERRFILE\n",
    "echo OUTFILE=$OUTFILE\n",
    "\n",
    "DATA=$AGLIB/ag_ckpt_vocab\n",
    "MELIAD_PATH=$AGLIB/meliad\n",
    "export PYTHONPATH=$PYTHONPATH:$MELIAD_PATH\n",
    "\n",
    "# 生成时间戳用于RL数据目录\n",
    "TIMESTAMP=$(date +\"%Y%m%d_%H%M%S\")\n",
    "RL_DATA_DIR=$TESTDIR/rl_data_${TIMESTAMP}\n",
    "\n",
    "DDAR_ARGS=( \\\n",
    "  --defs_file=$AGDIR/defs.txt \\\n",
    "  --rules_file=$AGDIR/rules.txt \\\n",
    ")\n",
    "\n",
    "SEARCH_ARGS=(\n",
    "  --beam_size=$BEAM_SIZE\n",
    "  --search_depth=$DEPTH\n",
    ")\n",
    "\n",
    "# RL数据收集参数\n",
    "RL_ARGS=(\n",
    "  --collect_rl_data=$COLLECT_RL_DATA\n",
    "  --rl_data_dir=$RL_DATA_DIR\n",
    ")\n",
    "# 如果不需要收集RL数据，则创建空数组\n",
    "if [ \"$COLLECT_RL_DATA\" = \"false\" ]; then\n",
    "  RL_ARGS=()\n",
    "  echo \"RL数据收集已禁用\"\n",
    "else\n",
    "  # 确保RL数据目录存在\n",
    "  mkdir -p $RL_DATA_DIR\n",
    "  echo \"RL数据将保存到: $RL_DATA_DIR\"\n",
    "fi\n",
    "\n",
    "LM_ARGS=(\n",
    "  --ckpt_path=$DATA \\\n",
    "  --vocab_path=$DATA/geometry.757.model \\\n",
    "  --gin_search_paths=$MELIAD_PATH/transformer/configs,$AGDIR \\\n",
    "  --gin_file=base_htrans.gin \\\n",
    "  --gin_file=size/medium_150M.gin \\\n",
    "  --gin_file=options/positions_t5.gin \\\n",
    "  --gin_file=options/lr_cosine_decay.gin \\\n",
    "  --gin_file=options/seq_1024_nocache.gin \\\n",
    "  --gin_file=geometry_150M_generate.gin \\\n",
    "  --gin_param=DecoderOnlyLanguageModelGenerate.output_token_losses=True \\\n",
    "  --gin_param=TransformerTaskConfig.batch_size=$BATCH_SIZE \\\n",
    "  --gin_param=TransformerTaskConfig.sequence_length=128 \\\n",
    "  --gin_param=Trainer.restore_state_variables=False\n",
    ");\n",
    "\n",
    "true \"==========================================\"\n",
    "\n",
    "python -m alphageometry \\\\\n",
    "--alsologtostderr \\\\\n",
    "--problems_file=$PROB_FILE \\\\\n",
    "--problem_name=$PROB \\\\\n",
    "--mode=$MODEL \\\\\n",
    "\"${DDAR_ARGS[@]}\" \\\\\n",
    "\"${SEARCH_ARGS[@]}\" \\\\\n",
    "\"${RL_ARGS[@]}\" \\\\\n",
    "\"${LM_ARGS[@]}\" \\\\\n",
    "--out_file=$OUTFILE \\\\\n",
    "--n_workers=$NWORKERS 2>&1\n",
    "\n",
    "# 显示RL数据收集结果\n",
    "if [ \"$COLLECT_RL_DATA\" = \"true\" ]; then\n",
    "  echo \"==========================================\"\n",
    "  echo \"RL数据收集完成，保存路径: $RL_DATA_DIR\"\n",
    "  if [ -d \"$RL_DATA_DIR\" ]; then\n",
    "    ls -l $RL_DATA_DIR\n",
    "    COUNT=$(cat $RL_DATA_DIR/*.jsonl 2>/dev/null | wc -l || echo \"0\")\n",
    "    echo \"共收集了 $COUNT 条样本\"\n",
    "  else\n",
    "    echo \"警告: RL数据目录未创建\"\n",
    "  fi\n",
    "fi\n",
    "'''"
   ]
  },
  {
   "cell_type": "code",
   "execution_count": null,
   "metadata": {
    "trusted": true
   },
   "outputs": [],
   "source": [
    "os.environ[\"TESTDIR\"]=TESTDIR\n",
    "os.environ[\"AG4MDIR\"]=AG4MDIR\n",
    "os.environ[\"AGLIB\"]=AGLIB\n",
    "\n",
    "# BATCH_SIZE: number of outputs for each LM query\n",
    "# BEAM_SIZE: size of the breadth-first search queue\n",
    "# DEPTH: search depth (number of auxilary points to add)\n",
    "# NWORKERS: number of parallel run worker processes.\n",
    "# \n",
    "# Memory usage is affected by BATCH_SIZE, NWORKER and complexity of the problem.\n",
    "# Larger NWORKER and BATCH_SIZE tends to cause out of memory issue\n",
    "#\n",
    "# The results in Google paper can be obtained by setting BATCH_SIZE=32, BEAM_SIZE=512, DEPTH=16\n",
    "#\n",
    "# 1/2025: Kaggle free version provides GPU T4x2, 4 virtual CPUs, 29G RAM. Can set \n",
    "#   NWORKERS=2\n",
    "#   CUDA_VISIBLE_DEVICES=0,1\n",
    "\n",
    "os.environ[\"BATCH_SIZE\"]=\"16\"\n",
    "os.environ[\"BEAM_SIZE\"]=\"64\"\n",
    "os.environ[\"DEPTH\"]=\"16\"\n",
    "os.environ[\"NWORKERS\"]=\"2\"\n",
    "\n",
    "# 强化学习数据收集设置\n",
    "os.environ[\"COLLECT_RL_DATA\"]=\"true\" \n",
    "\n",
    "os.environ[\"CUDA_VISIBLE_DEVICES\"]=\"0,1\"\n",
    "\n",
    "# test problems can be uploaded into a dataset, e.g. for dataset \"tmpfiles\", \"/kaggle/input/tmpfiles/test-problems.txt\"\n",
    "os.environ[\"PROB_FILE\"]=f\"{AG4MDIR}/data/ag4m_problems.txt\"\n",
    "PROB=\"imo-2024-q4\"\n",
    "os.environ[\"PROB\"]=PROB\n",
    "# alphageometry|ddar\n",
    "os.environ[\"MODEL\"]=\"alphageometry\"\n",
    "\n",
    "# In an interactive Kaggle session, run the job in background, so we can do other things in the Notebook.\n",
    "# For long jobs, commit the Notebook and run in Batch mode.\n",
    "# An interactive session will be terminated after about 20 minutes of idle time.\n",
    "if os.environ[\"KAGGLE_KERNEL_RUN_TYPE\"]==\"Batch\":\n",
    "    os.system(f\"echo '{jobScript}'|bash\")\n",
    "else:\n",
    "    os.system(f\"echo '{jobScript}'|bash &\")\n"
   ]
  },
  {
   "cell_type": "code",
   "execution_count": null,
   "metadata": {
    "trusted": true
   },
   "outputs": [],
   "source": [
    "#!cat /kaggle/input/tmpfiles/test-problems.txt"
   ]
  },
  {
   "cell_type": "code",
   "execution_count": null,
   "metadata": {
    "trusted": true
   },
   "outputs": [],
   "source": [
    "# In an interactive Kaggle session, run this to see the log file. We can cancel this cell's execution\n",
    "# to do other things in the Notebook\n",
    "if os.environ[\"KAGGLE_KERNEL_RUN_TYPE\"] != \"Batch\":\n",
    "    !tail -f {TESTDIR}/{PROB}.log"
   ]
  },
  {
   "cell_type": "code",
   "execution_count": null,
   "metadata": {
    "trusted": true
   },
   "outputs": [],
   "source": [
    "# Command to kill the background job in an interactive session\n",
    "# !pkill -P `ps -ef|grep -- '-m alphageometry'|grep -v grep|awk '{printf \"%d,%d\", $2, $3}'`\n",
    "\n",
    "# Command to check processes\n",
    "### |cat to show full commandline\n",
    "# !ps -eo pid,ppid,pgid,%cpu,cmd |cat\n",
    "# !ps -ef|cat"
   ]
  },
  {
   "cell_type": "code",
   "execution_count": null,
   "metadata": {
    "trusted": true
   },
   "outputs": [],
   "source": [
    "# Command to check progress of a running job in an interactive session\n",
    "# !bash {AG4MDIR}/utils/checkprog.sh {TESTDIR}/{PROB}.log"
   ]
  },
  {
   "cell_type": "code",
   "execution_count": null,
   "metadata": {},
   "outputs": [],
   "source": [
    "# 查看RL数据收集结果\n",
    "!find {TESTDIR} -name \"rl_data_*\" -type d | sort -r | head -1 | xargs ls -la"
   ]
  },
  {
   "cell_type": "code",
   "execution_count": null,
   "metadata": {
    "trusted": true
   },
   "outputs": [],
   "source": [
    "# In Batch run, after the job completes, list output files\n",
    "!ls -ltr {TESTDIR}"
   ]
  }
 ],
 "metadata": {
  "accelerator": "GPU",
  "colab": {
   "authorship_tag": "ABX9TyOcsgkfOgCk5oTpUiS6zrgo",
   "collapsed_sections": [
    "pW2KIijZBAdh"
   ],
   "gpuType": "T4",
   "provenance": []
  },
  "kaggle": {
   "accelerator": "nvidiaTeslaT4",
   "dataSources": [],
   "dockerImageVersionId": 30823,
   "isGpuEnabled": true,
   "isInternetEnabled": true,
   "language": "python",
   "sourceType": "notebook"
  },
  "kernelspec": {
   "display_name": "Python 3",
   "language": "python",
   "name": "python3"
  },
  "language_info": {
   "codemirror_mode": {
    "name": "ipython",
    "version": 3
   },
   "file_extension": ".py",
   "mimetype": "text/x-python",
   "name": "python",
   "nbconvert_exporter": "python",
   "pygments_lexer": "ipython3",
   "version": "3.10.12"
  }
 },
 "nbformat": 4,
 "nbformat_minor": 4
}
